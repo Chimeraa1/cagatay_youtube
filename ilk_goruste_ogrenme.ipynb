{
  "nbformat": 4,
  "nbformat_minor": 0,
  "metadata": {
    "colab": {
      "name": "ilk_goruste_ogrenme.ipynb",
      "provenance": [],
      "collapsed_sections": []
    },
    "kernelspec": {
      "name": "python3",
      "display_name": "Python 3"
    },
    "widgets": {
      "application/vnd.jupyter.widget-state+json": {
        "6f67ba765d3549509885df7f208b0856": {
          "model_module": "@jupyter-widgets/controls",
          "model_name": "HBoxModel",
          "state": {
            "_view_name": "HBoxView",
            "_dom_classes": [],
            "_model_name": "HBoxModel",
            "_view_module": "@jupyter-widgets/controls",
            "_model_module_version": "1.5.0",
            "_view_count": null,
            "_view_module_version": "1.5.0",
            "box_style": "",
            "layout": "IPY_MODEL_a0746fa7556e4d32b69779f2a6515fed",
            "_model_module": "@jupyter-widgets/controls",
            "children": [
              "IPY_MODEL_b127c3d48b414345987b805d7d897b26",
              "IPY_MODEL_235dddf58adb442493eb3932ba3219aa"
            ]
          }
        },
        "a0746fa7556e4d32b69779f2a6515fed": {
          "model_module": "@jupyter-widgets/base",
          "model_name": "LayoutModel",
          "state": {
            "_view_name": "LayoutView",
            "grid_template_rows": null,
            "right": null,
            "justify_content": null,
            "_view_module": "@jupyter-widgets/base",
            "overflow": null,
            "_model_module_version": "1.2.0",
            "_view_count": null,
            "flex_flow": null,
            "width": null,
            "min_width": null,
            "border": null,
            "align_items": null,
            "bottom": null,
            "_model_module": "@jupyter-widgets/base",
            "top": null,
            "grid_column": null,
            "overflow_y": null,
            "overflow_x": null,
            "grid_auto_flow": null,
            "grid_area": null,
            "grid_template_columns": null,
            "flex": null,
            "_model_name": "LayoutModel",
            "justify_items": null,
            "grid_row": null,
            "max_height": null,
            "align_content": null,
            "visibility": null,
            "align_self": null,
            "height": null,
            "min_height": null,
            "padding": null,
            "grid_auto_rows": null,
            "grid_gap": null,
            "max_width": null,
            "order": null,
            "_view_module_version": "1.2.0",
            "grid_template_areas": null,
            "object_position": null,
            "object_fit": null,
            "grid_auto_columns": null,
            "margin": null,
            "display": null,
            "left": null
          }
        },
        "b127c3d48b414345987b805d7d897b26": {
          "model_module": "@jupyter-widgets/controls",
          "model_name": "FloatProgressModel",
          "state": {
            "_view_name": "ProgressView",
            "style": "IPY_MODEL_e6307d08d88946cfad93f6fb6db98f43",
            "_dom_classes": [],
            "description": "Downloading: 100%",
            "_model_name": "FloatProgressModel",
            "bar_style": "success",
            "max": 734,
            "_view_module": "@jupyter-widgets/controls",
            "_model_module_version": "1.5.0",
            "value": 734,
            "_view_count": null,
            "_view_module_version": "1.5.0",
            "orientation": "horizontal",
            "min": 0,
            "description_tooltip": null,
            "_model_module": "@jupyter-widgets/controls",
            "layout": "IPY_MODEL_a3d7e6a128574bc6b1a32558d308afd2"
          }
        },
        "235dddf58adb442493eb3932ba3219aa": {
          "model_module": "@jupyter-widgets/controls",
          "model_name": "HTMLModel",
          "state": {
            "_view_name": "HTMLView",
            "style": "IPY_MODEL_596ec76c3afe462e8db483abd67345b6",
            "_dom_classes": [],
            "description": "",
            "_model_name": "HTMLModel",
            "placeholder": "​",
            "_view_module": "@jupyter-widgets/controls",
            "_model_module_version": "1.5.0",
            "value": " 734/734 [00:48&lt;00:00, 15.2B/s]",
            "_view_count": null,
            "_view_module_version": "1.5.0",
            "description_tooltip": null,
            "_model_module": "@jupyter-widgets/controls",
            "layout": "IPY_MODEL_038af0c37e12460c8f303c12286a43bc"
          }
        },
        "e6307d08d88946cfad93f6fb6db98f43": {
          "model_module": "@jupyter-widgets/controls",
          "model_name": "ProgressStyleModel",
          "state": {
            "_view_name": "StyleView",
            "_model_name": "ProgressStyleModel",
            "description_width": "initial",
            "_view_module": "@jupyter-widgets/base",
            "_model_module_version": "1.5.0",
            "_view_count": null,
            "_view_module_version": "1.2.0",
            "bar_color": null,
            "_model_module": "@jupyter-widgets/controls"
          }
        },
        "a3d7e6a128574bc6b1a32558d308afd2": {
          "model_module": "@jupyter-widgets/base",
          "model_name": "LayoutModel",
          "state": {
            "_view_name": "LayoutView",
            "grid_template_rows": null,
            "right": null,
            "justify_content": null,
            "_view_module": "@jupyter-widgets/base",
            "overflow": null,
            "_model_module_version": "1.2.0",
            "_view_count": null,
            "flex_flow": null,
            "width": null,
            "min_width": null,
            "border": null,
            "align_items": null,
            "bottom": null,
            "_model_module": "@jupyter-widgets/base",
            "top": null,
            "grid_column": null,
            "overflow_y": null,
            "overflow_x": null,
            "grid_auto_flow": null,
            "grid_area": null,
            "grid_template_columns": null,
            "flex": null,
            "_model_name": "LayoutModel",
            "justify_items": null,
            "grid_row": null,
            "max_height": null,
            "align_content": null,
            "visibility": null,
            "align_self": null,
            "height": null,
            "min_height": null,
            "padding": null,
            "grid_auto_rows": null,
            "grid_gap": null,
            "max_width": null,
            "order": null,
            "_view_module_version": "1.2.0",
            "grid_template_areas": null,
            "object_position": null,
            "object_fit": null,
            "grid_auto_columns": null,
            "margin": null,
            "display": null,
            "left": null
          }
        },
        "596ec76c3afe462e8db483abd67345b6": {
          "model_module": "@jupyter-widgets/controls",
          "model_name": "DescriptionStyleModel",
          "state": {
            "_view_name": "StyleView",
            "_model_name": "DescriptionStyleModel",
            "description_width": "",
            "_view_module": "@jupyter-widgets/base",
            "_model_module_version": "1.5.0",
            "_view_count": null,
            "_view_module_version": "1.2.0",
            "_model_module": "@jupyter-widgets/controls"
          }
        },
        "038af0c37e12460c8f303c12286a43bc": {
          "model_module": "@jupyter-widgets/base",
          "model_name": "LayoutModel",
          "state": {
            "_view_name": "LayoutView",
            "grid_template_rows": null,
            "right": null,
            "justify_content": null,
            "_view_module": "@jupyter-widgets/base",
            "overflow": null,
            "_model_module_version": "1.2.0",
            "_view_count": null,
            "flex_flow": null,
            "width": null,
            "min_width": null,
            "border": null,
            "align_items": null,
            "bottom": null,
            "_model_module": "@jupyter-widgets/base",
            "top": null,
            "grid_column": null,
            "overflow_y": null,
            "overflow_x": null,
            "grid_auto_flow": null,
            "grid_area": null,
            "grid_template_columns": null,
            "flex": null,
            "_model_name": "LayoutModel",
            "justify_items": null,
            "grid_row": null,
            "max_height": null,
            "align_content": null,
            "visibility": null,
            "align_self": null,
            "height": null,
            "min_height": null,
            "padding": null,
            "grid_auto_rows": null,
            "grid_gap": null,
            "max_width": null,
            "order": null,
            "_view_module_version": "1.2.0",
            "grid_template_areas": null,
            "object_position": null,
            "object_fit": null,
            "grid_auto_columns": null,
            "margin": null,
            "display": null,
            "left": null
          }
        },
        "f2165ff7df4143e0aed136b39ffa82e0": {
          "model_module": "@jupyter-widgets/controls",
          "model_name": "HBoxModel",
          "state": {
            "_view_name": "HBoxView",
            "_dom_classes": [],
            "_model_name": "HBoxModel",
            "_view_module": "@jupyter-widgets/controls",
            "_model_module_version": "1.5.0",
            "_view_count": null,
            "_view_module_version": "1.5.0",
            "box_style": "",
            "layout": "IPY_MODEL_98cd2dbcb7834d2088d5c1758b6acc84",
            "_model_module": "@jupyter-widgets/controls",
            "children": [
              "IPY_MODEL_29b4eb747d1e4942a5b5dde8ba0ed169",
              "IPY_MODEL_23e058acdce045a59c193068497efa17"
            ]
          }
        },
        "98cd2dbcb7834d2088d5c1758b6acc84": {
          "model_module": "@jupyter-widgets/base",
          "model_name": "LayoutModel",
          "state": {
            "_view_name": "LayoutView",
            "grid_template_rows": null,
            "right": null,
            "justify_content": null,
            "_view_module": "@jupyter-widgets/base",
            "overflow": null,
            "_model_module_version": "1.2.0",
            "_view_count": null,
            "flex_flow": null,
            "width": null,
            "min_width": null,
            "border": null,
            "align_items": null,
            "bottom": null,
            "_model_module": "@jupyter-widgets/base",
            "top": null,
            "grid_column": null,
            "overflow_y": null,
            "overflow_x": null,
            "grid_auto_flow": null,
            "grid_area": null,
            "grid_template_columns": null,
            "flex": null,
            "_model_name": "LayoutModel",
            "justify_items": null,
            "grid_row": null,
            "max_height": null,
            "align_content": null,
            "visibility": null,
            "align_self": null,
            "height": null,
            "min_height": null,
            "padding": null,
            "grid_auto_rows": null,
            "grid_gap": null,
            "max_width": null,
            "order": null,
            "_view_module_version": "1.2.0",
            "grid_template_areas": null,
            "object_position": null,
            "object_fit": null,
            "grid_auto_columns": null,
            "margin": null,
            "display": null,
            "left": null
          }
        },
        "29b4eb747d1e4942a5b5dde8ba0ed169": {
          "model_module": "@jupyter-widgets/controls",
          "model_name": "FloatProgressModel",
          "state": {
            "_view_name": "ProgressView",
            "style": "IPY_MODEL_c0a57ea9ef164faab852d34a98511067",
            "_dom_classes": [],
            "description": "Downloading: 100%",
            "_model_name": "FloatProgressModel",
            "bar_style": "success",
            "max": 5069051,
            "_view_module": "@jupyter-widgets/controls",
            "_model_module_version": "1.5.0",
            "value": 5069051,
            "_view_count": null,
            "_view_module_version": "1.5.0",
            "orientation": "horizontal",
            "min": 0,
            "description_tooltip": null,
            "_model_module": "@jupyter-widgets/controls",
            "layout": "IPY_MODEL_d7d04639d30a4fdfa93a51ef12859be1"
          }
        },
        "23e058acdce045a59c193068497efa17": {
          "model_module": "@jupyter-widgets/controls",
          "model_name": "HTMLModel",
          "state": {
            "_view_name": "HTMLView",
            "style": "IPY_MODEL_7a67bfaf1dc04303b3f08c3d2a6e2a54",
            "_dom_classes": [],
            "description": "",
            "_model_name": "HTMLModel",
            "placeholder": "​",
            "_view_module": "@jupyter-widgets/controls",
            "_model_module_version": "1.5.0",
            "value": " 5.07M/5.07M [00:03&lt;00:00, 1.28MB/s]",
            "_view_count": null,
            "_view_module_version": "1.5.0",
            "description_tooltip": null,
            "_model_module": "@jupyter-widgets/controls",
            "layout": "IPY_MODEL_30b774f4d249407e9cff78d8ea5050b3"
          }
        },
        "c0a57ea9ef164faab852d34a98511067": {
          "model_module": "@jupyter-widgets/controls",
          "model_name": "ProgressStyleModel",
          "state": {
            "_view_name": "StyleView",
            "_model_name": "ProgressStyleModel",
            "description_width": "initial",
            "_view_module": "@jupyter-widgets/base",
            "_model_module_version": "1.5.0",
            "_view_count": null,
            "_view_module_version": "1.2.0",
            "bar_color": null,
            "_model_module": "@jupyter-widgets/controls"
          }
        },
        "d7d04639d30a4fdfa93a51ef12859be1": {
          "model_module": "@jupyter-widgets/base",
          "model_name": "LayoutModel",
          "state": {
            "_view_name": "LayoutView",
            "grid_template_rows": null,
            "right": null,
            "justify_content": null,
            "_view_module": "@jupyter-widgets/base",
            "overflow": null,
            "_model_module_version": "1.2.0",
            "_view_count": null,
            "flex_flow": null,
            "width": null,
            "min_width": null,
            "border": null,
            "align_items": null,
            "bottom": null,
            "_model_module": "@jupyter-widgets/base",
            "top": null,
            "grid_column": null,
            "overflow_y": null,
            "overflow_x": null,
            "grid_auto_flow": null,
            "grid_area": null,
            "grid_template_columns": null,
            "flex": null,
            "_model_name": "LayoutModel",
            "justify_items": null,
            "grid_row": null,
            "max_height": null,
            "align_content": null,
            "visibility": null,
            "align_self": null,
            "height": null,
            "min_height": null,
            "padding": null,
            "grid_auto_rows": null,
            "grid_gap": null,
            "max_width": null,
            "order": null,
            "_view_module_version": "1.2.0",
            "grid_template_areas": null,
            "object_position": null,
            "object_fit": null,
            "grid_auto_columns": null,
            "margin": null,
            "display": null,
            "left": null
          }
        },
        "7a67bfaf1dc04303b3f08c3d2a6e2a54": {
          "model_module": "@jupyter-widgets/controls",
          "model_name": "DescriptionStyleModel",
          "state": {
            "_view_name": "StyleView",
            "_model_name": "DescriptionStyleModel",
            "description_width": "",
            "_view_module": "@jupyter-widgets/base",
            "_model_module_version": "1.5.0",
            "_view_count": null,
            "_view_module_version": "1.2.0",
            "_model_module": "@jupyter-widgets/controls"
          }
        },
        "30b774f4d249407e9cff78d8ea5050b3": {
          "model_module": "@jupyter-widgets/base",
          "model_name": "LayoutModel",
          "state": {
            "_view_name": "LayoutView",
            "grid_template_rows": null,
            "right": null,
            "justify_content": null,
            "_view_module": "@jupyter-widgets/base",
            "overflow": null,
            "_model_module_version": "1.2.0",
            "_view_count": null,
            "flex_flow": null,
            "width": null,
            "min_width": null,
            "border": null,
            "align_items": null,
            "bottom": null,
            "_model_module": "@jupyter-widgets/base",
            "top": null,
            "grid_column": null,
            "overflow_y": null,
            "overflow_x": null,
            "grid_auto_flow": null,
            "grid_area": null,
            "grid_template_columns": null,
            "flex": null,
            "_model_name": "LayoutModel",
            "justify_items": null,
            "grid_row": null,
            "max_height": null,
            "align_content": null,
            "visibility": null,
            "align_self": null,
            "height": null,
            "min_height": null,
            "padding": null,
            "grid_auto_rows": null,
            "grid_gap": null,
            "max_width": null,
            "order": null,
            "_view_module_version": "1.2.0",
            "grid_template_areas": null,
            "object_position": null,
            "object_fit": null,
            "grid_auto_columns": null,
            "margin": null,
            "display": null,
            "left": null
          }
        },
        "7d31874cb1b14e199e2b8de111b2172e": {
          "model_module": "@jupyter-widgets/controls",
          "model_name": "HBoxModel",
          "state": {
            "_view_name": "HBoxView",
            "_dom_classes": [],
            "_model_name": "HBoxModel",
            "_view_module": "@jupyter-widgets/controls",
            "_model_module_version": "1.5.0",
            "_view_count": null,
            "_view_module_version": "1.5.0",
            "box_style": "",
            "layout": "IPY_MODEL_f390b29ed21f4bd097672b9a5252f3ee",
            "_model_module": "@jupyter-widgets/controls",
            "children": [
              "IPY_MODEL_fc89e65288284d41b6a3197582e55221",
              "IPY_MODEL_ff589a114f204ef1b5c536d631d474f7"
            ]
          }
        },
        "f390b29ed21f4bd097672b9a5252f3ee": {
          "model_module": "@jupyter-widgets/base",
          "model_name": "LayoutModel",
          "state": {
            "_view_name": "LayoutView",
            "grid_template_rows": null,
            "right": null,
            "justify_content": null,
            "_view_module": "@jupyter-widgets/base",
            "overflow": null,
            "_model_module_version": "1.2.0",
            "_view_count": null,
            "flex_flow": null,
            "width": null,
            "min_width": null,
            "border": null,
            "align_items": null,
            "bottom": null,
            "_model_module": "@jupyter-widgets/base",
            "top": null,
            "grid_column": null,
            "overflow_y": null,
            "overflow_x": null,
            "grid_auto_flow": null,
            "grid_area": null,
            "grid_template_columns": null,
            "flex": null,
            "_model_name": "LayoutModel",
            "justify_items": null,
            "grid_row": null,
            "max_height": null,
            "align_content": null,
            "visibility": null,
            "align_self": null,
            "height": null,
            "min_height": null,
            "padding": null,
            "grid_auto_rows": null,
            "grid_gap": null,
            "max_width": null,
            "order": null,
            "_view_module_version": "1.2.0",
            "grid_template_areas": null,
            "object_position": null,
            "object_fit": null,
            "grid_auto_columns": null,
            "margin": null,
            "display": null,
            "left": null
          }
        },
        "fc89e65288284d41b6a3197582e55221": {
          "model_module": "@jupyter-widgets/controls",
          "model_name": "FloatProgressModel",
          "state": {
            "_view_name": "ProgressView",
            "style": "IPY_MODEL_f6a763b0a49d4b438d40b2c285fe10de",
            "_dom_classes": [],
            "description": "Downloading: 100%",
            "_model_name": "FloatProgressModel",
            "bar_style": "success",
            "max": 150,
            "_view_module": "@jupyter-widgets/controls",
            "_model_module_version": "1.5.0",
            "value": 150,
            "_view_count": null,
            "_view_module_version": "1.5.0",
            "orientation": "horizontal",
            "min": 0,
            "description_tooltip": null,
            "_model_module": "@jupyter-widgets/controls",
            "layout": "IPY_MODEL_161ba9e2ec0f4fe990cc923d8a733426"
          }
        },
        "ff589a114f204ef1b5c536d631d474f7": {
          "model_module": "@jupyter-widgets/controls",
          "model_name": "HTMLModel",
          "state": {
            "_view_name": "HTMLView",
            "style": "IPY_MODEL_df8ae398271843d2bb4f0baba12a6adf",
            "_dom_classes": [],
            "description": "",
            "_model_name": "HTMLModel",
            "placeholder": "​",
            "_view_module": "@jupyter-widgets/controls",
            "_model_module_version": "1.5.0",
            "value": " 150/150 [00:42&lt;00:00, 3.51B/s]",
            "_view_count": null,
            "_view_module_version": "1.5.0",
            "description_tooltip": null,
            "_model_module": "@jupyter-widgets/controls",
            "layout": "IPY_MODEL_df21d05856044cb6a1fef5a146b7bb14"
          }
        },
        "f6a763b0a49d4b438d40b2c285fe10de": {
          "model_module": "@jupyter-widgets/controls",
          "model_name": "ProgressStyleModel",
          "state": {
            "_view_name": "StyleView",
            "_model_name": "ProgressStyleModel",
            "description_width": "initial",
            "_view_module": "@jupyter-widgets/base",
            "_model_module_version": "1.5.0",
            "_view_count": null,
            "_view_module_version": "1.2.0",
            "bar_color": null,
            "_model_module": "@jupyter-widgets/controls"
          }
        },
        "161ba9e2ec0f4fe990cc923d8a733426": {
          "model_module": "@jupyter-widgets/base",
          "model_name": "LayoutModel",
          "state": {
            "_view_name": "LayoutView",
            "grid_template_rows": null,
            "right": null,
            "justify_content": null,
            "_view_module": "@jupyter-widgets/base",
            "overflow": null,
            "_model_module_version": "1.2.0",
            "_view_count": null,
            "flex_flow": null,
            "width": null,
            "min_width": null,
            "border": null,
            "align_items": null,
            "bottom": null,
            "_model_module": "@jupyter-widgets/base",
            "top": null,
            "grid_column": null,
            "overflow_y": null,
            "overflow_x": null,
            "grid_auto_flow": null,
            "grid_area": null,
            "grid_template_columns": null,
            "flex": null,
            "_model_name": "LayoutModel",
            "justify_items": null,
            "grid_row": null,
            "max_height": null,
            "align_content": null,
            "visibility": null,
            "align_self": null,
            "height": null,
            "min_height": null,
            "padding": null,
            "grid_auto_rows": null,
            "grid_gap": null,
            "max_width": null,
            "order": null,
            "_view_module_version": "1.2.0",
            "grid_template_areas": null,
            "object_position": null,
            "object_fit": null,
            "grid_auto_columns": null,
            "margin": null,
            "display": null,
            "left": null
          }
        },
        "df8ae398271843d2bb4f0baba12a6adf": {
          "model_module": "@jupyter-widgets/controls",
          "model_name": "DescriptionStyleModel",
          "state": {
            "_view_name": "StyleView",
            "_model_name": "DescriptionStyleModel",
            "description_width": "",
            "_view_module": "@jupyter-widgets/base",
            "_model_module_version": "1.5.0",
            "_view_count": null,
            "_view_module_version": "1.2.0",
            "_model_module": "@jupyter-widgets/controls"
          }
        },
        "df21d05856044cb6a1fef5a146b7bb14": {
          "model_module": "@jupyter-widgets/base",
          "model_name": "LayoutModel",
          "state": {
            "_view_name": "LayoutView",
            "grid_template_rows": null,
            "right": null,
            "justify_content": null,
            "_view_module": "@jupyter-widgets/base",
            "overflow": null,
            "_model_module_version": "1.2.0",
            "_view_count": null,
            "flex_flow": null,
            "width": null,
            "min_width": null,
            "border": null,
            "align_items": null,
            "bottom": null,
            "_model_module": "@jupyter-widgets/base",
            "top": null,
            "grid_column": null,
            "overflow_y": null,
            "overflow_x": null,
            "grid_auto_flow": null,
            "grid_area": null,
            "grid_template_columns": null,
            "flex": null,
            "_model_name": "LayoutModel",
            "justify_items": null,
            "grid_row": null,
            "max_height": null,
            "align_content": null,
            "visibility": null,
            "align_self": null,
            "height": null,
            "min_height": null,
            "padding": null,
            "grid_auto_rows": null,
            "grid_gap": null,
            "max_width": null,
            "order": null,
            "_view_module_version": "1.2.0",
            "grid_template_areas": null,
            "object_position": null,
            "object_fit": null,
            "grid_auto_columns": null,
            "margin": null,
            "display": null,
            "left": null
          }
        },
        "16ce1a9ab6aa4cc2bf57bc29ff721817": {
          "model_module": "@jupyter-widgets/controls",
          "model_name": "HBoxModel",
          "state": {
            "_view_name": "HBoxView",
            "_dom_classes": [],
            "_model_name": "HBoxModel",
            "_view_module": "@jupyter-widgets/controls",
            "_model_module_version": "1.5.0",
            "_view_count": null,
            "_view_module_version": "1.5.0",
            "box_style": "",
            "layout": "IPY_MODEL_33b779222ddc40c0b99feb1b283ea885",
            "_model_module": "@jupyter-widgets/controls",
            "children": [
              "IPY_MODEL_72c74eeb353346db8749cedee1ca22d4",
              "IPY_MODEL_71c67b00ff5049f48ca63533531e93a0"
            ]
          }
        },
        "33b779222ddc40c0b99feb1b283ea885": {
          "model_module": "@jupyter-widgets/base",
          "model_name": "LayoutModel",
          "state": {
            "_view_name": "LayoutView",
            "grid_template_rows": null,
            "right": null,
            "justify_content": null,
            "_view_module": "@jupyter-widgets/base",
            "overflow": null,
            "_model_module_version": "1.2.0",
            "_view_count": null,
            "flex_flow": null,
            "width": null,
            "min_width": null,
            "border": null,
            "align_items": null,
            "bottom": null,
            "_model_module": "@jupyter-widgets/base",
            "top": null,
            "grid_column": null,
            "overflow_y": null,
            "overflow_x": null,
            "grid_auto_flow": null,
            "grid_area": null,
            "grid_template_columns": null,
            "flex": null,
            "_model_name": "LayoutModel",
            "justify_items": null,
            "grid_row": null,
            "max_height": null,
            "align_content": null,
            "visibility": null,
            "align_self": null,
            "height": null,
            "min_height": null,
            "padding": null,
            "grid_auto_rows": null,
            "grid_gap": null,
            "max_width": null,
            "order": null,
            "_view_module_version": "1.2.0",
            "grid_template_areas": null,
            "object_position": null,
            "object_fit": null,
            "grid_auto_columns": null,
            "margin": null,
            "display": null,
            "left": null
          }
        },
        "72c74eeb353346db8749cedee1ca22d4": {
          "model_module": "@jupyter-widgets/controls",
          "model_name": "FloatProgressModel",
          "state": {
            "_view_name": "ProgressView",
            "style": "IPY_MODEL_aaa4731b6d3644fcaa1c12b86705ae61",
            "_dom_classes": [],
            "description": "Downloading: 100%",
            "_model_name": "FloatProgressModel",
            "bar_style": "success",
            "max": 25,
            "_view_module": "@jupyter-widgets/controls",
            "_model_module_version": "1.5.0",
            "value": 25,
            "_view_count": null,
            "_view_module_version": "1.5.0",
            "orientation": "horizontal",
            "min": 0,
            "description_tooltip": null,
            "_model_module": "@jupyter-widgets/controls",
            "layout": "IPY_MODEL_163cab19d9f04b4499599fb006552042"
          }
        },
        "71c67b00ff5049f48ca63533531e93a0": {
          "model_module": "@jupyter-widgets/controls",
          "model_name": "HTMLModel",
          "state": {
            "_view_name": "HTMLView",
            "style": "IPY_MODEL_f225b6f603184d339899f20eecb8fc54",
            "_dom_classes": [],
            "description": "",
            "_model_name": "HTMLModel",
            "placeholder": "​",
            "_view_module": "@jupyter-widgets/controls",
            "_model_module_version": "1.5.0",
            "value": " 25.0/25.0 [00:03&lt;00:00, 6.87B/s]",
            "_view_count": null,
            "_view_module_version": "1.5.0",
            "description_tooltip": null,
            "_model_module": "@jupyter-widgets/controls",
            "layout": "IPY_MODEL_c8319c239b114c4ab1ff363825f55287"
          }
        },
        "aaa4731b6d3644fcaa1c12b86705ae61": {
          "model_module": "@jupyter-widgets/controls",
          "model_name": "ProgressStyleModel",
          "state": {
            "_view_name": "StyleView",
            "_model_name": "ProgressStyleModel",
            "description_width": "initial",
            "_view_module": "@jupyter-widgets/base",
            "_model_module_version": "1.5.0",
            "_view_count": null,
            "_view_module_version": "1.2.0",
            "bar_color": null,
            "_model_module": "@jupyter-widgets/controls"
          }
        },
        "163cab19d9f04b4499599fb006552042": {
          "model_module": "@jupyter-widgets/base",
          "model_name": "LayoutModel",
          "state": {
            "_view_name": "LayoutView",
            "grid_template_rows": null,
            "right": null,
            "justify_content": null,
            "_view_module": "@jupyter-widgets/base",
            "overflow": null,
            "_model_module_version": "1.2.0",
            "_view_count": null,
            "flex_flow": null,
            "width": null,
            "min_width": null,
            "border": null,
            "align_items": null,
            "bottom": null,
            "_model_module": "@jupyter-widgets/base",
            "top": null,
            "grid_column": null,
            "overflow_y": null,
            "overflow_x": null,
            "grid_auto_flow": null,
            "grid_area": null,
            "grid_template_columns": null,
            "flex": null,
            "_model_name": "LayoutModel",
            "justify_items": null,
            "grid_row": null,
            "max_height": null,
            "align_content": null,
            "visibility": null,
            "align_self": null,
            "height": null,
            "min_height": null,
            "padding": null,
            "grid_auto_rows": null,
            "grid_gap": null,
            "max_width": null,
            "order": null,
            "_view_module_version": "1.2.0",
            "grid_template_areas": null,
            "object_position": null,
            "object_fit": null,
            "grid_auto_columns": null,
            "margin": null,
            "display": null,
            "left": null
          }
        },
        "f225b6f603184d339899f20eecb8fc54": {
          "model_module": "@jupyter-widgets/controls",
          "model_name": "DescriptionStyleModel",
          "state": {
            "_view_name": "StyleView",
            "_model_name": "DescriptionStyleModel",
            "description_width": "",
            "_view_module": "@jupyter-widgets/base",
            "_model_module_version": "1.5.0",
            "_view_count": null,
            "_view_module_version": "1.2.0",
            "_model_module": "@jupyter-widgets/controls"
          }
        },
        "c8319c239b114c4ab1ff363825f55287": {
          "model_module": "@jupyter-widgets/base",
          "model_name": "LayoutModel",
          "state": {
            "_view_name": "LayoutView",
            "grid_template_rows": null,
            "right": null,
            "justify_content": null,
            "_view_module": "@jupyter-widgets/base",
            "overflow": null,
            "_model_module_version": "1.2.0",
            "_view_count": null,
            "flex_flow": null,
            "width": null,
            "min_width": null,
            "border": null,
            "align_items": null,
            "bottom": null,
            "_model_module": "@jupyter-widgets/base",
            "top": null,
            "grid_column": null,
            "overflow_y": null,
            "overflow_x": null,
            "grid_auto_flow": null,
            "grid_area": null,
            "grid_template_columns": null,
            "flex": null,
            "_model_name": "LayoutModel",
            "justify_items": null,
            "grid_row": null,
            "max_height": null,
            "align_content": null,
            "visibility": null,
            "align_self": null,
            "height": null,
            "min_height": null,
            "padding": null,
            "grid_auto_rows": null,
            "grid_gap": null,
            "max_width": null,
            "order": null,
            "_view_module_version": "1.2.0",
            "grid_template_areas": null,
            "object_position": null,
            "object_fit": null,
            "grid_auto_columns": null,
            "margin": null,
            "display": null,
            "left": null
          }
        },
        "aba9fc220d8244178993d2f7ba956c94": {
          "model_module": "@jupyter-widgets/controls",
          "model_name": "HBoxModel",
          "state": {
            "_view_name": "HBoxView",
            "_dom_classes": [],
            "_model_name": "HBoxModel",
            "_view_module": "@jupyter-widgets/controls",
            "_model_module_version": "1.5.0",
            "_view_count": null,
            "_view_module_version": "1.5.0",
            "box_style": "",
            "layout": "IPY_MODEL_e238dbdde10d4a24a8c3aa454eb40709",
            "_model_module": "@jupyter-widgets/controls",
            "children": [
              "IPY_MODEL_7cc262c7969e49318544515527cc5301",
              "IPY_MODEL_89567b91d47247fa9436f8d1b6b8357c"
            ]
          }
        },
        "e238dbdde10d4a24a8c3aa454eb40709": {
          "model_module": "@jupyter-widgets/base",
          "model_name": "LayoutModel",
          "state": {
            "_view_name": "LayoutView",
            "grid_template_rows": null,
            "right": null,
            "justify_content": null,
            "_view_module": "@jupyter-widgets/base",
            "overflow": null,
            "_model_module_version": "1.2.0",
            "_view_count": null,
            "flex_flow": null,
            "width": null,
            "min_width": null,
            "border": null,
            "align_items": null,
            "bottom": null,
            "_model_module": "@jupyter-widgets/base",
            "top": null,
            "grid_column": null,
            "overflow_y": null,
            "overflow_x": null,
            "grid_auto_flow": null,
            "grid_area": null,
            "grid_template_columns": null,
            "flex": null,
            "_model_name": "LayoutModel",
            "justify_items": null,
            "grid_row": null,
            "max_height": null,
            "align_content": null,
            "visibility": null,
            "align_self": null,
            "height": null,
            "min_height": null,
            "padding": null,
            "grid_auto_rows": null,
            "grid_gap": null,
            "max_width": null,
            "order": null,
            "_view_module_version": "1.2.0",
            "grid_template_areas": null,
            "object_position": null,
            "object_fit": null,
            "grid_auto_columns": null,
            "margin": null,
            "display": null,
            "left": null
          }
        },
        "7cc262c7969e49318544515527cc5301": {
          "model_module": "@jupyter-widgets/controls",
          "model_name": "FloatProgressModel",
          "state": {
            "_view_name": "ProgressView",
            "style": "IPY_MODEL_33fe879dfe504a06bd39e1fa7a7eb2e0",
            "_dom_classes": [],
            "description": "Downloading: 100%",
            "_model_name": "FloatProgressModel",
            "bar_style": "success",
            "max": 2243942751,
            "_view_module": "@jupyter-widgets/controls",
            "_model_module_version": "1.5.0",
            "value": 2243942751,
            "_view_count": null,
            "_view_module_version": "1.5.0",
            "orientation": "horizontal",
            "min": 0,
            "description_tooltip": null,
            "_model_module": "@jupyter-widgets/controls",
            "layout": "IPY_MODEL_6fce862cfae1415fa44e9e92451e64e5"
          }
        },
        "89567b91d47247fa9436f8d1b6b8357c": {
          "model_module": "@jupyter-widgets/controls",
          "model_name": "HTMLModel",
          "state": {
            "_view_name": "HTMLView",
            "style": "IPY_MODEL_ab7c4cd54fc640668eabd7f267025c67",
            "_dom_classes": [],
            "description": "",
            "_model_name": "HTMLModel",
            "placeholder": "​",
            "_view_module": "@jupyter-widgets/controls",
            "_model_module_version": "1.5.0",
            "value": " 2.24G/2.24G [00:37&lt;00:00, 59.8MB/s]",
            "_view_count": null,
            "_view_module_version": "1.5.0",
            "description_tooltip": null,
            "_model_module": "@jupyter-widgets/controls",
            "layout": "IPY_MODEL_7780517b9821457b88c0d6c4cc24b318"
          }
        },
        "33fe879dfe504a06bd39e1fa7a7eb2e0": {
          "model_module": "@jupyter-widgets/controls",
          "model_name": "ProgressStyleModel",
          "state": {
            "_view_name": "StyleView",
            "_model_name": "ProgressStyleModel",
            "description_width": "initial",
            "_view_module": "@jupyter-widgets/base",
            "_model_module_version": "1.5.0",
            "_view_count": null,
            "_view_module_version": "1.2.0",
            "bar_color": null,
            "_model_module": "@jupyter-widgets/controls"
          }
        },
        "6fce862cfae1415fa44e9e92451e64e5": {
          "model_module": "@jupyter-widgets/base",
          "model_name": "LayoutModel",
          "state": {
            "_view_name": "LayoutView",
            "grid_template_rows": null,
            "right": null,
            "justify_content": null,
            "_view_module": "@jupyter-widgets/base",
            "overflow": null,
            "_model_module_version": "1.2.0",
            "_view_count": null,
            "flex_flow": null,
            "width": null,
            "min_width": null,
            "border": null,
            "align_items": null,
            "bottom": null,
            "_model_module": "@jupyter-widgets/base",
            "top": null,
            "grid_column": null,
            "overflow_y": null,
            "overflow_x": null,
            "grid_auto_flow": null,
            "grid_area": null,
            "grid_template_columns": null,
            "flex": null,
            "_model_name": "LayoutModel",
            "justify_items": null,
            "grid_row": null,
            "max_height": null,
            "align_content": null,
            "visibility": null,
            "align_self": null,
            "height": null,
            "min_height": null,
            "padding": null,
            "grid_auto_rows": null,
            "grid_gap": null,
            "max_width": null,
            "order": null,
            "_view_module_version": "1.2.0",
            "grid_template_areas": null,
            "object_position": null,
            "object_fit": null,
            "grid_auto_columns": null,
            "margin": null,
            "display": null,
            "left": null
          }
        },
        "ab7c4cd54fc640668eabd7f267025c67": {
          "model_module": "@jupyter-widgets/controls",
          "model_name": "DescriptionStyleModel",
          "state": {
            "_view_name": "StyleView",
            "_model_name": "DescriptionStyleModel",
            "description_width": "",
            "_view_module": "@jupyter-widgets/base",
            "_model_module_version": "1.5.0",
            "_view_count": null,
            "_view_module_version": "1.2.0",
            "_model_module": "@jupyter-widgets/controls"
          }
        },
        "7780517b9821457b88c0d6c4cc24b318": {
          "model_module": "@jupyter-widgets/base",
          "model_name": "LayoutModel",
          "state": {
            "_view_name": "LayoutView",
            "grid_template_rows": null,
            "right": null,
            "justify_content": null,
            "_view_module": "@jupyter-widgets/base",
            "overflow": null,
            "_model_module_version": "1.2.0",
            "_view_count": null,
            "flex_flow": null,
            "width": null,
            "min_width": null,
            "border": null,
            "align_items": null,
            "bottom": null,
            "_model_module": "@jupyter-widgets/base",
            "top": null,
            "grid_column": null,
            "overflow_y": null,
            "overflow_x": null,
            "grid_auto_flow": null,
            "grid_area": null,
            "grid_template_columns": null,
            "flex": null,
            "_model_name": "LayoutModel",
            "justify_items": null,
            "grid_row": null,
            "max_height": null,
            "align_content": null,
            "visibility": null,
            "align_self": null,
            "height": null,
            "min_height": null,
            "padding": null,
            "grid_auto_rows": null,
            "grid_gap": null,
            "max_width": null,
            "order": null,
            "_view_module_version": "1.2.0",
            "grid_template_areas": null,
            "object_position": null,
            "object_fit": null,
            "grid_auto_columns": null,
            "margin": null,
            "display": null,
            "left": null
          }
        }
      }
    }
  },
  "cells": [
    {
      "cell_type": "code",
      "metadata": {
        "id": "usArY7bVCUwL"
      },
      "source": [
        "# This is a Hugging Face Zero shot learning tutorial for Turkish learners.\n",
        "# So, all the credits must go to Hugging face.\n",
        "\n",
        "\n",
        "# Bu yalnızca Hugging face'in muhteşem ZSL tutorialının Türkçe halidir. Lütfen detaylı bilgi için\n",
        "# Hugging Face'e başvurun. \n",
        "\n",
        "# Links:\n",
        "# https://discuss.huggingface.co/t/new-pipeline-for-zero-shot-text-classification/681\n",
        "# https://joeddav.github.io/blog/2020/05/29/ZSL.html\n",
        "# https://huggingface.co/joeddav/xlm-roberta-large-xnli\n",
        "# https://arxiv.org/abs/1911.02116"
      ],
      "execution_count": null,
      "outputs": []
    },
    {
      "cell_type": "code",
      "metadata": {
        "id": "t8lRTrHoEPZ1",
        "outputId": "435459c8-ddd8-4a18-fc7c-cb5e4220747d",
        "colab": {
          "base_uri": "https://localhost:8080/",
          "height": 615
        }
      },
      "source": [
        "# Hugging face'i yükleyelim\n",
        "!pip install transformers==3.1.0"
      ],
      "execution_count": null,
      "outputs": [
        {
          "output_type": "stream",
          "text": [
            "Collecting transformers==3.1.0\n",
            "\u001b[?25l  Downloading https://files.pythonhosted.org/packages/ae/05/c8c55b600308dc04e95100dc8ad8a244dd800fe75dfafcf1d6348c6f6209/transformers-3.1.0-py3-none-any.whl (884kB)\n",
            "\r\u001b[K     |▍                               | 10kB 19.0MB/s eta 0:00:01\r\u001b[K     |▊                               | 20kB 1.6MB/s eta 0:00:01\r\u001b[K     |█▏                              | 30kB 2.2MB/s eta 0:00:01\r\u001b[K     |█▌                              | 40kB 2.5MB/s eta 0:00:01\r\u001b[K     |█▉                              | 51kB 1.9MB/s eta 0:00:01\r\u001b[K     |██▎                             | 61kB 2.2MB/s eta 0:00:01\r\u001b[K     |██▋                             | 71kB 2.4MB/s eta 0:00:01\r\u001b[K     |███                             | 81kB 2.6MB/s eta 0:00:01\r\u001b[K     |███▍                            | 92kB 2.8MB/s eta 0:00:01\r\u001b[K     |███▊                            | 102kB 2.7MB/s eta 0:00:01\r\u001b[K     |████                            | 112kB 2.7MB/s eta 0:00:01\r\u001b[K     |████▌                           | 122kB 2.7MB/s eta 0:00:01\r\u001b[K     |████▉                           | 133kB 2.7MB/s eta 0:00:01\r\u001b[K     |█████▏                          | 143kB 2.7MB/s eta 0:00:01\r\u001b[K     |█████▋                          | 153kB 2.7MB/s eta 0:00:01\r\u001b[K     |██████                          | 163kB 2.7MB/s eta 0:00:01\r\u001b[K     |██████▎                         | 174kB 2.7MB/s eta 0:00:01\r\u001b[K     |██████▊                         | 184kB 2.7MB/s eta 0:00:01\r\u001b[K     |███████                         | 194kB 2.7MB/s eta 0:00:01\r\u001b[K     |███████▍                        | 204kB 2.7MB/s eta 0:00:01\r\u001b[K     |███████▉                        | 215kB 2.7MB/s eta 0:00:01\r\u001b[K     |████████▏                       | 225kB 2.7MB/s eta 0:00:01\r\u001b[K     |████████▌                       | 235kB 2.7MB/s eta 0:00:01\r\u001b[K     |█████████                       | 245kB 2.7MB/s eta 0:00:01\r\u001b[K     |█████████▎                      | 256kB 2.7MB/s eta 0:00:01\r\u001b[K     |█████████▋                      | 266kB 2.7MB/s eta 0:00:01\r\u001b[K     |██████████                      | 276kB 2.7MB/s eta 0:00:01\r\u001b[K     |██████████▍                     | 286kB 2.7MB/s eta 0:00:01\r\u001b[K     |██████████▊                     | 296kB 2.7MB/s eta 0:00:01\r\u001b[K     |███████████▏                    | 307kB 2.7MB/s eta 0:00:01\r\u001b[K     |███████████▌                    | 317kB 2.7MB/s eta 0:00:01\r\u001b[K     |███████████▉                    | 327kB 2.7MB/s eta 0:00:01\r\u001b[K     |████████████▎                   | 337kB 2.7MB/s eta 0:00:01\r\u001b[K     |████████████▋                   | 348kB 2.7MB/s eta 0:00:01\r\u001b[K     |█████████████                   | 358kB 2.7MB/s eta 0:00:01\r\u001b[K     |█████████████▍                  | 368kB 2.7MB/s eta 0:00:01\r\u001b[K     |█████████████▊                  | 378kB 2.7MB/s eta 0:00:01\r\u001b[K     |██████████████                  | 389kB 2.7MB/s eta 0:00:01\r\u001b[K     |██████████████▌                 | 399kB 2.7MB/s eta 0:00:01\r\u001b[K     |██████████████▉                 | 409kB 2.7MB/s eta 0:00:01\r\u001b[K     |███████████████▏                | 419kB 2.7MB/s eta 0:00:01\r\u001b[K     |███████████████▋                | 430kB 2.7MB/s eta 0:00:01\r\u001b[K     |████████████████                | 440kB 2.7MB/s eta 0:00:01\r\u001b[K     |████████████████▎               | 450kB 2.7MB/s eta 0:00:01\r\u001b[K     |████████████████▊               | 460kB 2.7MB/s eta 0:00:01\r\u001b[K     |█████████████████               | 471kB 2.7MB/s eta 0:00:01\r\u001b[K     |█████████████████▍              | 481kB 2.7MB/s eta 0:00:01\r\u001b[K     |█████████████████▉              | 491kB 2.7MB/s eta 0:00:01\r\u001b[K     |██████████████████▏             | 501kB 2.7MB/s eta 0:00:01\r\u001b[K     |██████████████████▌             | 512kB 2.7MB/s eta 0:00:01\r\u001b[K     |███████████████████             | 522kB 2.7MB/s eta 0:00:01\r\u001b[K     |███████████████████▎            | 532kB 2.7MB/s eta 0:00:01\r\u001b[K     |███████████████████▋            | 542kB 2.7MB/s eta 0:00:01\r\u001b[K     |████████████████████            | 552kB 2.7MB/s eta 0:00:01\r\u001b[K     |████████████████████▍           | 563kB 2.7MB/s eta 0:00:01\r\u001b[K     |████████████████████▊           | 573kB 2.7MB/s eta 0:00:01\r\u001b[K     |█████████████████████▏          | 583kB 2.7MB/s eta 0:00:01\r\u001b[K     |█████████████████████▌          | 593kB 2.7MB/s eta 0:00:01\r\u001b[K     |█████████████████████▉          | 604kB 2.7MB/s eta 0:00:01\r\u001b[K     |██████████████████████▎         | 614kB 2.7MB/s eta 0:00:01\r\u001b[K     |██████████████████████▋         | 624kB 2.7MB/s eta 0:00:01\r\u001b[K     |███████████████████████         | 634kB 2.7MB/s eta 0:00:01\r\u001b[K     |███████████████████████▍        | 645kB 2.7MB/s eta 0:00:01\r\u001b[K     |███████████████████████▊        | 655kB 2.7MB/s eta 0:00:01\r\u001b[K     |████████████████████████        | 665kB 2.7MB/s eta 0:00:01\r\u001b[K     |████████████████████████▌       | 675kB 2.7MB/s eta 0:00:01\r\u001b[K     |████████████████████████▉       | 686kB 2.7MB/s eta 0:00:01\r\u001b[K     |█████████████████████████▏      | 696kB 2.7MB/s eta 0:00:01\r\u001b[K     |█████████████████████████▋      | 706kB 2.7MB/s eta 0:00:01\r\u001b[K     |██████████████████████████      | 716kB 2.7MB/s eta 0:00:01\r\u001b[K     |██████████████████████████▎     | 727kB 2.7MB/s eta 0:00:01\r\u001b[K     |██████████████████████████▊     | 737kB 2.7MB/s eta 0:00:01\r\u001b[K     |███████████████████████████     | 747kB 2.7MB/s eta 0:00:01\r\u001b[K     |███████████████████████████▍    | 757kB 2.7MB/s eta 0:00:01\r\u001b[K     |███████████████████████████▉    | 768kB 2.7MB/s eta 0:00:01\r\u001b[K     |████████████████████████████▏   | 778kB 2.7MB/s eta 0:00:01\r\u001b[K     |████████████████████████████▌   | 788kB 2.7MB/s eta 0:00:01\r\u001b[K     |█████████████████████████████   | 798kB 2.7MB/s eta 0:00:01\r\u001b[K     |█████████████████████████████▎  | 808kB 2.7MB/s eta 0:00:01\r\u001b[K     |█████████████████████████████▋  | 819kB 2.7MB/s eta 0:00:01\r\u001b[K     |██████████████████████████████  | 829kB 2.7MB/s eta 0:00:01\r\u001b[K     |██████████████████████████████▍ | 839kB 2.7MB/s eta 0:00:01\r\u001b[K     |██████████████████████████████▊ | 849kB 2.7MB/s eta 0:00:01\r\u001b[K     |███████████████████████████████▏| 860kB 2.7MB/s eta 0:00:01\r\u001b[K     |███████████████████████████████▌| 870kB 2.7MB/s eta 0:00:01\r\u001b[K     |███████████████████████████████▉| 880kB 2.7MB/s eta 0:00:01\r\u001b[K     |████████████████████████████████| 890kB 2.7MB/s \n",
            "\u001b[?25hRequirement already satisfied: tqdm>=4.27 in /usr/local/lib/python3.6/dist-packages (from transformers==3.1.0) (4.41.1)\n",
            "Collecting sacremoses\n",
            "\u001b[?25l  Downloading https://files.pythonhosted.org/packages/7d/34/09d19aff26edcc8eb2a01bed8e98f13a1537005d31e95233fd48216eed10/sacremoses-0.0.43.tar.gz (883kB)\n",
            "\u001b[K     |████████████████████████████████| 890kB 10.1MB/s \n",
            "\u001b[?25hRequirement already satisfied: numpy in /usr/local/lib/python3.6/dist-packages (from transformers==3.1.0) (1.18.5)\n",
            "Requirement already satisfied: filelock in /usr/local/lib/python3.6/dist-packages (from transformers==3.1.0) (3.0.12)\n",
            "Requirement already satisfied: packaging in /usr/local/lib/python3.6/dist-packages (from transformers==3.1.0) (20.4)\n",
            "Requirement already satisfied: dataclasses; python_version < \"3.7\" in /usr/local/lib/python3.6/dist-packages (from transformers==3.1.0) (0.7)\n",
            "Collecting sentencepiece!=0.1.92\n",
            "\u001b[?25l  Downloading https://files.pythonhosted.org/packages/d4/a4/d0a884c4300004a78cca907a6ff9a5e9fe4f090f5d95ab341c53d28cbc58/sentencepiece-0.1.91-cp36-cp36m-manylinux1_x86_64.whl (1.1MB)\n",
            "\u001b[K     |████████████████████████████████| 1.1MB 17.3MB/s \n",
            "\u001b[?25hCollecting tokenizers==0.8.1.rc2\n",
            "\u001b[?25l  Downloading https://files.pythonhosted.org/packages/80/83/8b9fccb9e48eeb575ee19179e2bdde0ee9a1904f97de5f02d19016b8804f/tokenizers-0.8.1rc2-cp36-cp36m-manylinux1_x86_64.whl (3.0MB)\n",
            "\u001b[K     |████████████████████████████████| 3.0MB 33.2MB/s \n",
            "\u001b[?25hRequirement already satisfied: regex!=2019.12.17 in /usr/local/lib/python3.6/dist-packages (from transformers==3.1.0) (2019.12.20)\n",
            "Requirement already satisfied: requests in /usr/local/lib/python3.6/dist-packages (from transformers==3.1.0) (2.23.0)\n",
            "Requirement already satisfied: six in /usr/local/lib/python3.6/dist-packages (from sacremoses->transformers==3.1.0) (1.15.0)\n",
            "Requirement already satisfied: click in /usr/local/lib/python3.6/dist-packages (from sacremoses->transformers==3.1.0) (7.1.2)\n",
            "Requirement already satisfied: joblib in /usr/local/lib/python3.6/dist-packages (from sacremoses->transformers==3.1.0) (0.16.0)\n",
            "Requirement already satisfied: pyparsing>=2.0.2 in /usr/local/lib/python3.6/dist-packages (from packaging->transformers==3.1.0) (2.4.7)\n",
            "Requirement already satisfied: chardet<4,>=3.0.2 in /usr/local/lib/python3.6/dist-packages (from requests->transformers==3.1.0) (3.0.4)\n",
            "Requirement already satisfied: idna<3,>=2.5 in /usr/local/lib/python3.6/dist-packages (from requests->transformers==3.1.0) (2.10)\n",
            "Requirement already satisfied: certifi>=2017.4.17 in /usr/local/lib/python3.6/dist-packages (from requests->transformers==3.1.0) (2020.6.20)\n",
            "Requirement already satisfied: urllib3!=1.25.0,!=1.25.1,<1.26,>=1.21.1 in /usr/local/lib/python3.6/dist-packages (from requests->transformers==3.1.0) (1.24.3)\n",
            "Building wheels for collected packages: sacremoses\n",
            "  Building wheel for sacremoses (setup.py) ... \u001b[?25l\u001b[?25hdone\n",
            "  Created wheel for sacremoses: filename=sacremoses-0.0.43-cp36-none-any.whl size=893257 sha256=e5aa17a46c81af1c8ab817680e1afc611de4b21f92df9f9fb27b1d3ae365c427\n",
            "  Stored in directory: /root/.cache/pip/wheels/29/3c/fd/7ce5c3f0666dab31a50123635e6fb5e19ceb42ce38d4e58f45\n",
            "Successfully built sacremoses\n",
            "Installing collected packages: sacremoses, sentencepiece, tokenizers, transformers\n",
            "Successfully installed sacremoses-0.0.43 sentencepiece-0.1.91 tokenizers-0.8.1rc2 transformers-3.1.0\n"
          ],
          "name": "stdout"
        }
      ]
    },
    {
      "cell_type": "code",
      "metadata": {
        "id": "1--g4RuWEfY2"
      },
      "source": [
        "# Pipeline'lar Hugging face modellerinin detaylarına inmeden kullanmanın en kolay yolu.\n",
        "# Veriyi sizin yerinize hazırlıyor ve modeli çalıştırıyor.\n",
        "from transformers import pipeline"
      ],
      "execution_count": null,
      "outputs": []
    },
    {
      "cell_type": "code",
      "metadata": {
        "id": "CYQd87aMEnHE",
        "outputId": "59e7e2fe-946f-4976-f2fa-45b68d3e1262",
        "colab": {
          "base_uri": "https://localhost:8080/",
          "height": 262,
          "referenced_widgets": [
            "6f67ba765d3549509885df7f208b0856",
            "a0746fa7556e4d32b69779f2a6515fed",
            "b127c3d48b414345987b805d7d897b26",
            "235dddf58adb442493eb3932ba3219aa",
            "e6307d08d88946cfad93f6fb6db98f43",
            "a3d7e6a128574bc6b1a32558d308afd2",
            "596ec76c3afe462e8db483abd67345b6",
            "038af0c37e12460c8f303c12286a43bc",
            "f2165ff7df4143e0aed136b39ffa82e0",
            "98cd2dbcb7834d2088d5c1758b6acc84",
            "29b4eb747d1e4942a5b5dde8ba0ed169",
            "23e058acdce045a59c193068497efa17",
            "c0a57ea9ef164faab852d34a98511067",
            "d7d04639d30a4fdfa93a51ef12859be1",
            "7a67bfaf1dc04303b3f08c3d2a6e2a54",
            "30b774f4d249407e9cff78d8ea5050b3",
            "7d31874cb1b14e199e2b8de111b2172e",
            "f390b29ed21f4bd097672b9a5252f3ee",
            "fc89e65288284d41b6a3197582e55221",
            "ff589a114f204ef1b5c536d631d474f7",
            "f6a763b0a49d4b438d40b2c285fe10de",
            "161ba9e2ec0f4fe990cc923d8a733426",
            "df8ae398271843d2bb4f0baba12a6adf",
            "df21d05856044cb6a1fef5a146b7bb14",
            "16ce1a9ab6aa4cc2bf57bc29ff721817",
            "33b779222ddc40c0b99feb1b283ea885",
            "72c74eeb353346db8749cedee1ca22d4",
            "71c67b00ff5049f48ca63533531e93a0",
            "aaa4731b6d3644fcaa1c12b86705ae61",
            "163cab19d9f04b4499599fb006552042",
            "f225b6f603184d339899f20eecb8fc54",
            "c8319c239b114c4ab1ff363825f55287",
            "aba9fc220d8244178993d2f7ba956c94",
            "e238dbdde10d4a24a8c3aa454eb40709",
            "7cc262c7969e49318544515527cc5301",
            "89567b91d47247fa9436f8d1b6b8357c",
            "33fe879dfe504a06bd39e1fa7a7eb2e0",
            "6fce862cfae1415fa44e9e92451e64e5",
            "ab7c4cd54fc640668eabd7f267025c67",
            "7780517b9821457b88c0d6c4cc24b318"
          ]
        }
      },
      "source": [
        "# Model pipeline'ını alalım\n",
        "model_pipeline = pipeline(\"zero-shot-classification\", model='joeddav/xlm-roberta-large-xnli')"
      ],
      "execution_count": null,
      "outputs": [
        {
          "output_type": "display_data",
          "data": {
            "application/vnd.jupyter.widget-view+json": {
              "model_id": "6f67ba765d3549509885df7f208b0856",
              "version_minor": 0,
              "version_major": 2
            },
            "text/plain": [
              "HBox(children=(FloatProgress(value=0.0, description='Downloading', max=734.0, style=ProgressStyle(description_…"
            ]
          },
          "metadata": {
            "tags": []
          }
        },
        {
          "output_type": "stream",
          "text": [
            "\n"
          ],
          "name": "stdout"
        },
        {
          "output_type": "display_data",
          "data": {
            "application/vnd.jupyter.widget-view+json": {
              "model_id": "f2165ff7df4143e0aed136b39ffa82e0",
              "version_minor": 0,
              "version_major": 2
            },
            "text/plain": [
              "HBox(children=(FloatProgress(value=0.0, description='Downloading', max=5069051.0, style=ProgressStyle(descript…"
            ]
          },
          "metadata": {
            "tags": []
          }
        },
        {
          "output_type": "stream",
          "text": [
            "\n"
          ],
          "name": "stdout"
        },
        {
          "output_type": "display_data",
          "data": {
            "application/vnd.jupyter.widget-view+json": {
              "model_id": "7d31874cb1b14e199e2b8de111b2172e",
              "version_minor": 0,
              "version_major": 2
            },
            "text/plain": [
              "HBox(children=(FloatProgress(value=0.0, description='Downloading', max=150.0, style=ProgressStyle(description_…"
            ]
          },
          "metadata": {
            "tags": []
          }
        },
        {
          "output_type": "stream",
          "text": [
            "\n"
          ],
          "name": "stdout"
        },
        {
          "output_type": "display_data",
          "data": {
            "application/vnd.jupyter.widget-view+json": {
              "model_id": "16ce1a9ab6aa4cc2bf57bc29ff721817",
              "version_minor": 0,
              "version_major": 2
            },
            "text/plain": [
              "HBox(children=(FloatProgress(value=0.0, description='Downloading', max=25.0, style=ProgressStyle(description_w…"
            ]
          },
          "metadata": {
            "tags": []
          }
        },
        {
          "output_type": "stream",
          "text": [
            "\n"
          ],
          "name": "stdout"
        },
        {
          "output_type": "display_data",
          "data": {
            "application/vnd.jupyter.widget-view+json": {
              "model_id": "aba9fc220d8244178993d2f7ba956c94",
              "version_minor": 0,
              "version_major": 2
            },
            "text/plain": [
              "HBox(children=(FloatProgress(value=0.0, description='Downloading', max=2243942751.0, style=ProgressStyle(descr…"
            ]
          },
          "metadata": {
            "tags": []
          }
        },
        {
          "output_type": "stream",
          "text": [
            "\n"
          ],
          "name": "stdout"
        }
      ]
    },
    {
      "cell_type": "code",
      "metadata": {
        "id": "QBE_Thq2J4X-",
        "outputId": "4bab5159-9788-41b0-f2a8-bdddcddf80d2",
        "colab": {
          "base_uri": "https://localhost:8080/",
          "height": 105
        }
      },
      "source": [
        "# Duygu analizi örneği\n",
        "\n",
        "import numpy as np\n",
        "\n",
        "konu = [\n",
        "    \"Burada oturuyorum.\",\n",
        "]\n",
        "\n",
        "ihtimaller = [\"olumlu\", \"olumsuz\"]\n",
        "\n",
        "soru_kalibi = \"Bu cümle {}.\"\n",
        "\n",
        "tahminler = model_pipeline(konu, \n",
        "                           ihtimaller, \n",
        "                           hypothesis_template=soru_kalibi, \n",
        "                           multi_class=False)\n",
        "\n",
        "if not isinstance(tahminler, list):\n",
        "  tahminler = [tahminler]\n",
        "\n",
        "for tahmin in tahminler: \n",
        "  print(\"------------\")\n",
        "  idx = np.argmax(tahmin[\"scores\"])\n",
        "  print(\"Bizim sorumuz -> \", tahmin[\"sequence\"])\n",
        "  print(\"Modelin cevabi -> \" + soru_kalibi.format(tahmin[\"labels\"][idx]))\n",
        "  print(list(zip(tahmin['labels'], tahmin['scores'])))\n",
        "  "
      ],
      "execution_count": null,
      "outputs": [
        {
          "output_type": "stream",
          "text": [
            "------------\n",
            "Bizim sorumuz ->  Burada oturuyorum.\n",
            "Modelin cevabi -> Ben maça gidiyorum ne olumlu ne olumsuz.\n",
            "[('ne olumlu ne olumsuz', 0.6598588228225708), ('olumsuz', 0.19010098278522491), ('olumlu', 0.1500401496887207)]\n"
          ],
          "name": "stdout"
        }
      ]
    },
    {
      "cell_type": "code",
      "metadata": {
        "id": "cenpvkiSGIKn",
        "outputId": "545378e5-1321-4459-d172-10dcfbd2d833",
        "colab": {
          "base_uri": "https://localhost:8080/",
          "height": 105
        }
      },
      "source": [
        "# Çeviri örneği\n",
        "\n",
        "import numpy as np\n",
        "\n",
        "konu = [\n",
        "    \"Bir kamera aldım.\",\n",
        "]\n",
        "\n",
        "ihtimaller = [\n",
        "              \"I am watching robotikçi YouTube channel right now\",\n",
        "              \"I don't like robotikçi YouTube channel at all\",\n",
        "              \"I have no idea about Robotikçi YouTube channel.\",\n",
        "              \"What is robotikçi?\",\n",
        "              \"I bought a webcam.\"\n",
        "              ]\n",
        "\n",
        "soru_kalibi = \"Bu cümlenin çevirisi {}.\"\n",
        "\n",
        "# Kendime not değil koyarak yanılt\n",
        "\n",
        "tahminler = model_pipeline(konu, \n",
        "                           ihtimaller, \n",
        "                           hypothesis_template=soru_kalibi, \n",
        "                           multi_class=False)\n",
        "\n",
        "if not isinstance(tahminler, list):\n",
        "  tahminler = [tahminler]\n",
        "\n",
        "for tahmin in tahminler: \n",
        "  print(\"------------\")\n",
        "  idx = np.argmax(tahmin[\"scores\"])\n",
        "  print(\"Cümle -> \", tahmin[\"sequence\"])\n",
        "  print(\"Çeviri -> \" + soru_kalibi.format(tahmin[\"labels\"][idx]))\n",
        "  print(list(zip(tahmin['labels'], tahmin['scores'])))\n",
        "  "
      ],
      "execution_count": null,
      "outputs": [
        {
          "output_type": "stream",
          "text": [
            "------------\n",
            "Cümle ->  Bir kamera aldım.\n",
            "Çeviri -> Bu cümlenin çevirisi I bought a webcam..\n",
            "[('I bought a webcam.', 0.9863730072975159), ('What is robotikçi?', 0.00957981962710619), (\"I don't like robotikçi YouTube channel at all\", 0.0017924205167219043), ('I have no idea about Robotikçi YouTube channel.', 0.001536509022116661), ('I am watching robotikçi YouTube channel right now', 0.0007182254921644926)]\n"
          ],
          "name": "stdout"
        }
      ]
    },
    {
      "cell_type": "code",
      "metadata": {
        "id": "MPmmZMhfUBkH",
        "outputId": "7a7e3b78-4688-4adb-e496-b79a7ecbc4c3",
        "colab": {
          "base_uri": "https://localhost:8080/",
          "height": 105
        }
      },
      "source": [
        ""
      ],
      "execution_count": null,
      "outputs": [
        {
          "output_type": "stream",
          "text": [
            "------------\n",
            "Cümle ->  2 ile 7 toplamı.\n",
            "Çeviri -> Cevap 7.\n",
            "[('7', 0.5438330769538879), ('2', 0.1404133290052414), ('1', 0.08615794032812119), ('8', 0.07243703305721283), ('3', 0.0387323834002018), ('4', 0.03388495370745659), ('9', 0.028184620663523674), ('6', 0.025162532925605774), ('5', 0.020339589565992355), ('0', 0.010854518972337246)]\n"
          ],
          "name": "stdout"
        }
      ]
    },
    {
      "cell_type": "code",
      "metadata": {
        "id": "G6f1GgnZnIyQ",
        "outputId": "d3ed9247-d105-4f8f-b754-6ba473fbe9f0",
        "colab": {
          "base_uri": "https://localhost:8080/",
          "height": 105
        }
      },
      "source": [
        "# Konu örneği\n",
        "\n",
        "import numpy as np\n",
        "\n",
        "konu = [\n",
        "    \"Türkiye'nin 3 tarafı denizlerle çevrilidir.\",\n",
        "]\n",
        "\n",
        "ihtimaller = [\n",
        "              \"coğrafya\",\n",
        "              \"matematik\",\n",
        "              \"teknoloji\",\n",
        "              \"biyoloji\"\n",
        "              ]\n",
        "\n",
        "soru_kalibi = \"Bu cümlenin konusu {}.\"\n",
        "\n",
        "# Kendime not değil koyarak yanılt\n",
        "\n",
        "tahminler = model_pipeline(konu, \n",
        "                           ihtimaller, \n",
        "                           hypothesis_template=soru_kalibi, \n",
        "                           multi_class=False)\n",
        "\n",
        "if not isinstance(tahminler, list):\n",
        "  tahminler = [tahminler]\n",
        "\n",
        "for tahmin in tahminler: \n",
        "  print(\"------------\")\n",
        "  idx = np.argmax(tahmin[\"scores\"])\n",
        "  print(\"Cümle -> \", tahmin[\"sequence\"])\n",
        "  print(\"Çeviri -> \" + soru_kalibi.format(tahmin[\"labels\"][idx]))\n",
        "  print(list(zip(tahmin['labels'], tahmin['scores'])))\n",
        "  "
      ],
      "execution_count": null,
      "outputs": [
        {
          "output_type": "stream",
          "text": [
            "------------\n",
            "Cümle ->  Türkiye'nin 3 tarafı denizlerle çevrilidir.\n",
            "Çeviri -> Bu cümlenin konusu coğrafya.\n",
            "[('coğrafya', 0.908661425113678), ('biyoloji', 0.037452325224876404), ('matematik', 0.027655743062496185), ('teknoloji', 0.02623051032423973)]\n"
          ],
          "name": "stdout"
        }
      ]
    }
  ]
}